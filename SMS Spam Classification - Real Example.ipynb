{
 "cells": [
  {
   "cell_type": "markdown",
   "metadata": {},
   "source": [
    "<h1><center>SMS Spam Collection : Model Testing</center></h1>\n",
    "<hr>"
   ]
  },
  {
   "cell_type": "code",
   "execution_count": 1,
   "metadata": {},
   "outputs": [
    {
     "name": "stderr",
     "output_type": "stream",
     "text": [
      "Using TensorFlow backend.\n"
     ]
    }
   ],
   "source": [
    "import re\n",
    "import os\n",
    "import scipy\n",
    "import pickle\n",
    "import datetime\n",
    "\n",
    "import pandas as pd\n",
    "import numpy as np\n",
    "import matplotlib.pyplot as plt\n",
    "import seaborn as sns\n",
    "\n",
    "from tqdm import tqdm\n",
    "\n",
    "from sklearn.model_selection import train_test_split\n",
    "from sklearn.preprocessing import StandardScaler\n",
    "\n",
    "from sklearn.feature_extraction.text import CountVectorizer, TfidfVectorizer\n",
    "from gensim.models import Word2Vec\n",
    "\n",
    "from sklearn.metrics import accuracy_score\n",
    "from sklearn.metrics import roc_curve, auc, roc_auc_score, make_scorer\n",
    "from sklearn.metrics import confusion_matrix\n",
    "\n",
    "import tensorflow as tf\n",
    "from tensorflow.keras import Sequential\n",
    "from keras.preprocessing.text import Tokenizer\n",
    "from keras.preprocessing.sequence import pad_sequences\n",
    "from keras.wrappers.scikit_learn import KerasClassifier\n",
    "from sklearn.model_selection import RandomizedSearchCV\n",
    "\n",
    "from sklearn.preprocessing import StandardScaler\n",
    "from scipy.sparse import hstack\n",
    "\n",
    "from tensorflow.keras.layers import Dense, concatenate, Activation, BatchNormalization\n",
    "from tensorflow.keras.layers import Dropout, Conv1D, MaxPooling1D\n",
    "\n",
    "from tensorflow.keras.layers import Input, Flatten, Embedding, LSTM\n",
    "from tensorflow.keras import Model\n",
    "\n",
    "from keras import regularizers\n",
    "from keras.preprocessing.text import one_hot\n",
    "from tensorflow.keras.callbacks import TensorBoard, ModelCheckpoint, Callback, EarlyStopping\n",
    "from tensorflow.keras import optimizers"
   ]
  },
  {
   "cell_type": "code",
   "execution_count": 2,
   "metadata": {},
   "outputs": [],
   "source": [
    "#function \n",
    "\n",
    "def binary_label(x):\n",
    "    if x=='ham':\n",
    "        return 0\n",
    "    else:\n",
    "        return 1\n",
    "    \n",
    "def deconcatinated(x):\n",
    "    x = x.lower()\n",
    "    x = re.sub(r\"won\\'t\", \"will not\", x)\n",
    "    x = re.sub(r\"won\\'t\", \"will not\", x)\n",
    "    x = re.sub(r\"don\\'t\", \"do not\", x)\n",
    "    x = re.sub(r\"shouldn\\'t\", \"should not\", x)\n",
    "    x = re.sub(r\"couldtn\\'t\", \"could not\", x)\n",
    "    x = re.sub(r\"isn\\'t\", \"is not\", x)\n",
    "    x = re.sub(r\"\\'ll\", \" will\", x)\n",
    "    x = re.sub(r\"\\'d\", \" would\", x)\n",
    "    x = re.sub(r\"\\'m\", \"i am\", x)\n",
    "    x = re.sub(r\"&\", \" and \", x)\n",
    "    return x\n",
    "\n",
    "def remove_punctuation(x):\n",
    "    x = re.sub(r\"[!\\\"#$%()*+,.-/:;<=>?@^_`{|}~]\", \" \", x)\n",
    "    x = re.sub(r\"\\s{2,}\", \" \", x)\n",
    "    return x\n",
    "\n",
    "def text_length(x):\n",
    "    return len(x.split())\n",
    "\n",
    "def text_digit(x):\n",
    "    return len(re.findall(r'\\d+', x))\n",
    "\n",
    "def custom_auc(y_true, y_pred):\n",
    "    return tf.py_function(roc_auc_score, (y_true, y_pred), tf.double)"
   ]
  },
  {
   "cell_type": "code",
   "execution_count": 3,
   "metadata": {},
   "outputs": [],
   "source": [
    "def plot_model_performance(model_data):\n",
    "    tr_loss = model_data.history['loss']\n",
    "    tr_auc  = model_data.history['custom_auc']\n",
    "    cv_loss = model_data.history['val_loss']\n",
    "    cv_auc  = model_data.history['val_custom_auc']\n",
    "\n",
    "    plt.figure(figsize=(16, 6))\n",
    "    plt.subplot(121)\n",
    "    plt.plot(tr_loss, label='Train Loss', color='orange')\n",
    "    plt.plot(cv_loss, label='CV Loss', color='blue')\n",
    "    plt.grid()\n",
    "    plt.legend()\n",
    "    plt.title('Model Loss')\n",
    "\n",
    "    plt.subplot(122)\n",
    "    plt.plot(tr_auc, label='Train AUC', color='orange')\n",
    "    plt.plot(cv_auc, label='CV AUC', color='blue')\n",
    "    plt.grid()\n",
    "    plt.legend()\n",
    "    plt.title('Model AUC')\n",
    "\n",
    "    plt.tight_layout()\n",
    "    plt.show()\n",
    "    \n",
    "def plot_confusion_matrix(actual, predicted):\n",
    "    \"\"\"\n",
    "    for plotting confusion matrix for predicted and actual class labels\n",
    "    \"\"\"\n",
    "    C = confusion_matrix(actual, predicted) #confusion matrix\n",
    "    A = ((C.T)/(C.sum(axis=1))).T           #recall matrix    (row sum=1)\n",
    "    B = (C/C.sum(axis=0))                   #precision matrix (col sum=1)\n",
    "    labels = list(range(2))\n",
    "\n",
    "    plt.figure(figsize=(15, 5))\n",
    "    \n",
    "    ax1=plt.subplot(131)\n",
    "    #print('-'*10, 'Confusion Matrix', '-'*10)\n",
    "    #plt.figure(figsize=(5, 4))\n",
    "    sns.heatmap(C, annot=True, cmap='YlGnBu', fmt='.3f', xticklabels=labels, yticklabels=labels, ax=ax1)\n",
    "    ax1.set_title('Confusion Matrix')\n",
    "    plt.xlabel('Predicted Labels')\n",
    "    plt.ylabel('Actual Labels')\n",
    "    \n",
    "    ax2=plt.subplot(132)\n",
    "    #print('-'*10, 'Precision Matrix (ColSum=1)', '-'*10)#B\n",
    "    #plt.figure(figsize=(5, 4))\n",
    "    sns.heatmap(B, annot=True, cmap='YlGn', fmt='.3f', xticklabels=labels, yticklabels=labels, ax=ax2)\n",
    "    ax2.set_title('Precision Matrix')\n",
    "    plt.xlabel('Predicted Labels')\n",
    "    plt.ylabel('Actual Labels')\n",
    "    \n",
    "    ax3=plt.subplot(133)\n",
    "    #print('-'*10, 'Recall Matrix (RowSum=1)', '-'*10)#A\n",
    "    #plt.figure(figsize=(5, 4))\n",
    "    sns.heatmap(A, annot=True, cmap='YlOrBr', fmt='.3f', xticklabels=labels, yticklabels=labels, ax=ax3)\n",
    "    ax3.set_title('Recall Matrix')\n",
    "    plt.xlabel('Predicted Labels')\n",
    "    plt.ylabel('Actual Labels')\n",
    "    \n",
    "    plt.tight_layout()\n",
    "    plt.show()"
   ]
  },
  {
   "cell_type": "code",
   "execution_count": 4,
   "metadata": {},
   "outputs": [],
   "source": [
    "def embed_lstm_model(vocab_size, shape, print_summary=False):\n",
    "    model_input    = Input(shape=(shape, ), name='model_input')\n",
    "    text_embeding  = Embedding(vocab_size, 300, #weights=[x_tr_embeding_matrix], \\\n",
    "                               input_length=shape, trainable=True, name='text_embeding')(model_input)\n",
    "    lstm_layer1    = LSTM(64, name='lstm_layer1')(text_embeding)\n",
    "    dense_layer1   = Dense(64, activation='relu', name='dense_layer1')(lstm_layer1)\n",
    "    dropout_layer1 = Dropout(0.2, name='dropout_layer1')(dense_layer1)\n",
    "    dense_layer2   = Dense(1, name='final_prediction')(dropout_layer1)\n",
    "    lstm_model     = Model(inputs=model_input,outputs=dense_layer2)\n",
    "    lstm_model.compile(loss='binary_crossentropy',optimizer=optimizers.Adam(lr=1e-3) ,metrics=[custom_auc])\n",
    "    if print_summary:\n",
    "        lstm_model.summary()\n",
    "    return lstm_model\n",
    "\n",
    "def model_prediction(clf, data, actual_labels):\n",
    "    prediction_probs = clf.predict(data)\n",
    "    prediction       = [ 0 if x < 0 else 1 for x in prediction_probs ]\n",
    "    plot_confusion_matrix(actual_labels, prediction)\n",
    "    return prediction"
   ]
  },
  {
   "cell_type": "code",
   "execution_count": 5,
   "metadata": {},
   "outputs": [],
   "source": [
    "batch = 128\n",
    "epoch = 10\n",
    "text_max_length = 30\n",
    "\n",
    "checkpoint = ModelCheckpoint(\"./SMS_Classification/LSTM_Embeded_Text_Num_feat_Model.h5\",monitor=\"val_custom_auc\",\\\n",
    "                             mode=\"max\",save_best_only = True,verbose=1)\n",
    "\n",
    "stop_early = EarlyStopping(monitor='val_custom_auc', min_delta=0, patience=25, verbose=0, mode='max', \\\n",
    "                           restore_best_weights=True)"
   ]
  },
  {
   "cell_type": "markdown",
   "metadata": {},
   "source": [
    " "
   ]
  },
  {
   "cell_type": "markdown",
   "metadata": {},
   "source": [
    "## [1] Training the model"
   ]
  },
  {
   "cell_type": "code",
   "execution_count": 6,
   "metadata": {},
   "outputs": [],
   "source": [
    "def sms_classification_train():\n",
    "    if not os.path.isfile('./SMS_Classification/SMS_Classification_filtered.csv'):\n",
    "        print('Processing file...')\n",
    "        file = './raw_data/spam.csv'\n",
    "        data = pd.read_csv(file, encoding=\"ISO-8859-1\")[['v1', 'v2']]\n",
    "        \n",
    "        #changing the class label into numerical\n",
    "        df['Label'] = df['v1'].map(binary_label)\n",
    "        \n",
    "        filtered_text = list()\n",
    "        for line in tqdm(df['v2'].values):\n",
    "            line = remove_punctuation(line)\n",
    "            line = deconcatinated(line)\n",
    "            filtered_line = list()\n",
    "            for word in line.split():\n",
    "                #if (word.lower() not in stop) and (word.lower().isalpha()):\n",
    "                if (word.lower().isalnum()):\n",
    "                    filtered_line.append(word.lower())\n",
    "            #print(filtered_line)\n",
    "            filtered_text.append(' '.join(filtered_line))\n",
    "        #making new column with cleaned text    \n",
    "        df['filtered_text'] = filtered_text\n",
    "        \n",
    "        #finalizing the data\n",
    "        data = df[['filtered_text', 'Label']]\n",
    "        \n",
    "        #New Feature  :  Text Length\n",
    "        data['text_length'] = data['filtered_text'].map(text_length)\n",
    "        \n",
    "        #New Length  :  Presence of Digit\n",
    "        data['presence_of_digit'] = data['filtered_text'].map(text_digit)\n",
    "        \n",
    "        print('Number of NULL records ', data.isna().sum())\n",
    "        \n",
    "        #making new directory for future runs\n",
    "        if not os.path.isdir('SMS_Classification'):\n",
    "            os.mkdir('SMS_Classification')\n",
    "        #saving filtered text data\n",
    "        data = data.fillna(' ', axis=1)\n",
    "        data.to_csv('./SMS_Classification/SMS_Classification_filtered.csv', index=False)\n",
    "    else:\n",
    "        print('Loading data from file...')\n",
    "        data = pd.read_csv('./SMS_Classification/SMS_Classification_filtered.csv')\n",
    "    \n",
    "    # *-*-*-*-*-*-*-*-*-*-*-*-*-*-*-*-*-*-*-*-*-*-*-*-*-*-*-*-*-*-*-*-*-*-*-*-*-*-*-*-*-*-*-*-*-*-*-*-*-*-*-*-*\n",
    "    data = data.fillna(' ', axis=1)\n",
    "    #data splitting\n",
    "    x_tr, x_cv, y_tr, y_cv = train_test_split(data.drop('Label', axis=1), data['Label'], stratify=data['Label'], \\\n",
    "                                         test_size=0.10, random_state=47)\n",
    "    #tokenizing text words\n",
    "    token = Tokenizer()\n",
    "    token.fit_on_texts(x_tr['filtered_text'].values)\n",
    "    vocab_size   = len(token.word_index) + 1\n",
    "    x_tr_encoded = token.texts_to_sequences(x_tr['filtered_text'].values)\n",
    "    x_cv_encoded = token.texts_to_sequences(x_cv['filtered_text'].values)\n",
    "    \n",
    "    #pad each sentence with total of max (max_length) sized words\n",
    "    max_length = text_max_length\n",
    "    x_tr_padded = pad_sequences(x_tr_encoded, maxlen=max_length, padding='post')\n",
    "    x_cv_padded = pad_sequences(x_cv_encoded, maxlen=max_length, padding='post')\n",
    "    #stacking vectorized features\n",
    "    tr_text_num_feat = np.hstack((x_tr_padded, x_tr[['text_length', 'presence_of_digit']]))\n",
    "    cv_text_num_feat = np.hstack((x_cv_padded, x_cv[['text_length', 'presence_of_digit']]))\n",
    "    #loading LSTM model\n",
    "    print('Loading LSTM Model...\\n')\n",
    "    lstm_model = embed_lstm_model(vocab_size, tr_text_num_feat.shape[1], print_summary=False)\n",
    "    #fitting the model on given data\n",
    "    history = lstm_model.fit(tr_text_num_feat, y_tr, batch_size=batch, epochs=epoch, \\\n",
    "                             validation_data=(cv_text_num_feat, y_cv), use_multiprocessing=True, \\\n",
    "                             callbacks=[checkpoint, stop_early])\n",
    "    plot_model_performance(history)\n",
    "    \n",
    "    #loading best weights to model structure\n",
    "    lstm_model = embed_lstm_model(vocab_size, tr_text_num_feat.shape[1], print_summary=True)\n",
    "    lstm_model.load_weights('./SMS_Classification/LSTM_Embeded_Text_Num_feat_Model.h5')\n",
    "    \n",
    "    #performance of model with calculation of AUC on Train and Cross Validation data\n",
    "    tr_loss, tr_auc = lstm_model.evaluate(tr_text_num_feat, y_tr, batch_size=batch)\n",
    "    cv_loss, cv_auc = lstm_model.evaluate(cv_text_num_feat, y_cv, batch_size=batch)\n",
    "    \n",
    "    print('\\nPerformance of Model on\\nTrain Data            :::  Loss={0}, AUC={1}\\nCross validation Data :::  Loss={2}, AUC={3}\\n'\\\n",
    "          .format(round(tr_loss, 5), round(tr_auc, 5), round(cv_loss, 5), round(cv_auc,5) ))"
   ]
  },
  {
   "cell_type": "code",
   "execution_count": 7,
   "metadata": {
    "scrolled": true
   },
   "outputs": [
    {
     "name": "stdout",
     "output_type": "stream",
     "text": [
      "Loading data from file...\n",
      "Loading LSTM Model...\n",
      "\n",
      "Epoch 1/10\n",
      "40/40 [==============================] - ETA: 0s - loss: 0.3918 - custom_auc: 0.7459\n",
      "Epoch 00001: val_custom_auc improved from -inf to 0.99631, saving model to ./SMS_Classification\\LSTM_Embeded_Text_Num_feat_Model.h5\n",
      "40/40 [==============================] - 6s 153ms/step - loss: 0.3918 - custom_auc: 0.7459 - val_loss: 0.0606 - val_custom_auc: 0.9963\n",
      "Epoch 2/10\n",
      "40/40 [==============================] - ETA: 0s - loss: 0.1352 - custom_auc: 0.9898\n",
      "Epoch 00002: val_custom_auc did not improve from 0.99631\n",
      "40/40 [==============================] - 5s 115ms/step - loss: 0.1352 - custom_auc: 0.9898 - val_loss: 0.1936 - val_custom_auc: 0.9932\n",
      "Epoch 3/10\n",
      "40/40 [==============================] - ETA: 0s - loss: 0.0805 - custom_auc: 0.9918\n",
      "Epoch 00003: val_custom_auc improved from 0.99631 to 0.99635, saving model to ./SMS_Classification\\LSTM_Embeded_Text_Num_feat_Model.h5\n",
      "40/40 [==============================] - 5s 126ms/step - loss: 0.0805 - custom_auc: 0.9918 - val_loss: 0.0951 - val_custom_auc: 0.9963\n",
      "Epoch 4/10\n",
      "40/40 [==============================] - ETA: 0s - loss: 0.0541 - custom_auc: 0.9953\n",
      "Epoch 00004: val_custom_auc improved from 0.99635 to 0.99648, saving model to ./SMS_Classification\\LSTM_Embeded_Text_Num_feat_Model.h5\n",
      "40/40 [==============================] - 5s 131ms/step - loss: 0.0541 - custom_auc: 0.9953 - val_loss: 0.1157 - val_custom_auc: 0.9965\n",
      "Epoch 5/10\n",
      "40/40 [==============================] - ETA: 0s - loss: 0.0522 - custom_auc: 0.9982\n",
      "Epoch 00005: val_custom_auc improved from 0.99648 to 0.99679, saving model to ./SMS_Classification\\LSTM_Embeded_Text_Num_feat_Model.h5\n",
      "40/40 [==============================] - 6s 138ms/step - loss: 0.0522 - custom_auc: 0.9982 - val_loss: 0.1216 - val_custom_auc: 0.9968\n",
      "Epoch 6/10\n",
      "40/40 [==============================] - ETA: 0s - loss: 0.0748 - custom_auc: 0.9975\n",
      "Epoch 00006: val_custom_auc did not improve from 0.99679\n",
      "40/40 [==============================] - 5s 130ms/step - loss: 0.0748 - custom_auc: 0.9975 - val_loss: 0.3964 - val_custom_auc: 0.9850\n",
      "Epoch 7/10\n",
      "40/40 [==============================] - ETA: 0s - loss: 0.1389 - custom_auc: 0.9838\n",
      "Epoch 00007: val_custom_auc did not improve from 0.99679\n",
      "40/40 [==============================] - 5s 126ms/step - loss: 0.1389 - custom_auc: 0.9838 - val_loss: 0.1404 - val_custom_auc: 0.9924\n",
      "Epoch 8/10\n",
      "40/40 [==============================] - ETA: 0s - loss: 0.1252 - custom_auc: 0.9929\n",
      "Epoch 00008: val_custom_auc did not improve from 0.99679\n",
      "40/40 [==============================] - 5s 122ms/step - loss: 0.1252 - custom_auc: 0.9929 - val_loss: 0.1652 - val_custom_auc: 0.9913\n",
      "Epoch 9/10\n",
      "40/40 [==============================] - ETA: 0s - loss: 0.1993 - custom_auc: 0.9918\n",
      "Epoch 00009: val_custom_auc did not improve from 0.99679\n",
      "40/40 [==============================] - 5s 126ms/step - loss: 0.1993 - custom_auc: 0.9918 - val_loss: 0.1927 - val_custom_auc: 0.9917\n",
      "Epoch 10/10\n",
      "40/40 [==============================] - ETA: 0s - loss: 0.0967 - custom_auc: 0.9892\n",
      "Epoch 00010: val_custom_auc did not improve from 0.99679\n",
      "40/40 [==============================] - 5s 135ms/step - loss: 0.0967 - custom_auc: 0.9892 - val_loss: 0.2537 - val_custom_auc: 0.9917\n"
     ]
    },
    {
     "data": {
      "image/png": "[encoded data removed]",
      "text/plain": [
       "<Figure size 1152x432 with 2 Axes>"
      ]
     },
     "metadata": {
      "needs_background": "light"
     },
     "output_type": "display_data"
    },
    {
     "name": "stdout",
     "output_type": "stream",
     "text": [
      "Model: \"functional_3\"\n",
      "_________________________________________________________________\n",
      "Layer (type)                 Output Shape              Param #   \n",
      "=================================================================\n",
      "model_input (InputLayer)     [(None, 32)]              0         \n",
      "_________________________________________________________________\n",
      "text_embeding (Embedding)    (None, 32, 300)           2417100   \n",
      "_________________________________________________________________\n",
      "lstm_layer1 (LSTM)           (None, 64)                93440     \n",
      "_________________________________________________________________\n",
      "dense_layer1 (Dense)         (None, 64)                4160      \n",
      "_________________________________________________________________\n",
      "dropout_layer1 (Dropout)     (None, 64)                0         \n",
      "_________________________________________________________________\n",
      "final_prediction (Dense)     (None, 1)                 65        \n",
      "=================================================================\n",
      "Total params: 2,514,765\n",
      "Trainable params: 2,514,765\n",
      "Non-trainable params: 0\n",
      "_________________________________________________________________\n",
      "40/40 [==============================] - 1s 35ms/step - loss: 0.0540 - custom_auc: 0.9996\n",
      "5/5 [==============================] - 0s 24ms/step - loss: 0.1216 - custom_auc: 0.9968\n",
      "\n",
      "Performance of Model on\n",
      "Train Data            :::  Loss=0.05403, AUC=0.9996\n",
      "Cross validation Data :::  Loss=0.12164, AUC=0.99679\n",
      "\n"
     ]
    }
   ],
   "source": [
    "sms_classification_train()"
   ]
  },
  {
   "cell_type": "markdown",
   "metadata": {},
   "source": [
    " "
   ]
  },
  {
   "cell_type": "markdown",
   "metadata": {},
   "source": [
    "## [2] Testing a Sample SMSs"
   ]
  },
  {
   "cell_type": "code",
   "execution_count": 8,
   "metadata": {},
   "outputs": [],
   "source": [
    "def sms_classification_prediction(record):\n",
    "    if not os.path.isfile('./SMS_Classification/SMS_Classification_filtered.csv'):\n",
    "        sms_classification_train()\n",
    "    else:\n",
    "        #print('Loading data from file...')\n",
    "        data = pd.read_csv('./SMS_Classification/SMS_Classification_filtered.csv')\n",
    "        data = data.fillna(' ', axis=1)\n",
    "        \n",
    "        x_tr, x_cv, y_tr, y_cv = train_test_split(data.drop('Label', axis=1), data['Label'], \\\n",
    "                                      stratify=data['Label'], \\\n",
    "                                      test_size=0.10, random_state=47)\n",
    "        #tokenizing text words\n",
    "        token = Tokenizer()\n",
    "        token.fit_on_texts(x_tr['filtered_text'].values)\n",
    "        vocab_size   = len(token.word_index) + 1\n",
    "        \n",
    "    #encoding the test SMS sentence\n",
    "    test_record = list()\n",
    "    test_record.append(record)\n",
    "    #pre-process test record\n",
    "    my_text = pd.DataFrame(test_record, columns=['text'])\n",
    "    \n",
    "    filtered_text = list()\n",
    "    for line in my_text['text'].values:\n",
    "        line = remove_punctuation(line)\n",
    "        line = deconcatinated(line)\n",
    "        filtered_line = list()\n",
    "        for word in line.split():\n",
    "            if (word.lower().isalnum()):\n",
    "                filtered_line.append(word.lower())\n",
    "        filtered_text.append(' '.join(filtered_line))\n",
    "    my_text['filtered_text'] = filtered_text\n",
    "    \n",
    "    my_text['text_length'] = data['filtered_text'].map(text_length)\n",
    "    \n",
    "    my_text['presence_of_digit'] = data['filtered_text'].map(text_digit)\n",
    "    \n",
    "    #converting into numerical sequences\n",
    "    max_length=text_max_length\n",
    "    encoded = token.texts_to_sequences(my_text['filtered_text'].values)\n",
    "    padded  = pad_sequences(encoded, maxlen=max_length, padding='post')\n",
    "    \n",
    "    output_text = np.hstack((padded, my_text[['text_length', 'presence_of_digit']]))\n",
    "    \n",
    "    #print('Loading LSTM Model...\\n')\n",
    "    lstm_model = embed_lstm_model(vocab_size, output_text.shape[1], print_summary=False)\n",
    "    lstm_model.load_weights('./SMS_Classification/LSTM_Embeded_Text_Num_feat_Model.h5')\n",
    "    \n",
    "    #lst_model.predict(output_text)\n",
    "    #return (my_text, output_text, lstm_model)\n",
    "    model_prob = lstm_model.predict(output_text).tolist()[0][0]\n",
    "    if model_prob>0:\n",
    "        print('This is SPAM SMS')\n",
    "        return 1\n",
    "    else:\n",
    "        print(\"This is HAM SMS\")\n",
    "        return 0"
   ]
  },
  {
   "cell_type": "markdown",
   "metadata": {},
   "source": [
    " "
   ]
  },
  {
   "cell_type": "markdown",
   "metadata": {},
   "source": [
    " "
   ]
  },
  {
   "cell_type": "markdown",
   "metadata": {},
   "source": [
    " "
   ]
  },
  {
   "cell_type": "markdown",
   "metadata": {},
   "source": [
    "## [3] Sample Run"
   ]
  },
  {
   "cell_type": "markdown",
   "metadata": {},
   "source": [
    "#### [3.1] Example 1 "
   ]
  },
  {
   "cell_type": "code",
   "execution_count": 9,
   "metadata": {},
   "outputs": [],
   "source": [
    "sms_text = 'Well done. You have free membership in your cart. Please reach out to us at 9100000000'"
   ]
  },
  {
   "cell_type": "code",
   "execution_count": 10,
   "metadata": {},
   "outputs": [
    {
     "name": "stdout",
     "output_type": "stream",
     "text": [
      "This is SPAM SMS\n"
     ]
    }
   ],
   "source": [
    "response = sms_classification_prediction(sms_text)"
   ]
  },
  {
   "cell_type": "markdown",
   "metadata": {},
   "source": [
    " "
   ]
  },
  {
   "cell_type": "markdown",
   "metadata": {},
   "source": [
    "#### [3.2] Example 2"
   ]
  },
  {
   "cell_type": "code",
   "execution_count": 11,
   "metadata": {},
   "outputs": [],
   "source": [
    "sms_text = \"Hey man, come and get your parcel. I've kept it in my locker\""
   ]
  },
  {
   "cell_type": "code",
   "execution_count": 12,
   "metadata": {},
   "outputs": [
    {
     "name": "stdout",
     "output_type": "stream",
     "text": [
      "This is HAM SMS\n"
     ]
    }
   ],
   "source": [
    "response = sms_classification_prediction(sms_text)"
   ]
  },
  {
   "cell_type": "markdown",
   "metadata": {},
   "source": [
    "<hr>"
   ]
  }
 ],
 "metadata": {
  "kernelspec": {
   "display_name": "Python 3",
   "language": "python",
   "name": "python3"
  },
  "language_info": {
   "codemirror_mode": {
    "name": "ipython",
    "version": 3
   },
   "file_extension": ".py",
   "mimetype": "text/x-python",
   "name": "python",
   "nbconvert_exporter": "python",
   "pygments_lexer": "ipython3",
   "version": "3.7.6"
  }
 },
 "nbformat": 4,
 "nbformat_minor": 4
}
